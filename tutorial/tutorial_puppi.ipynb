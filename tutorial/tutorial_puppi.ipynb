{
 "cells": [
  {
   "cell_type": "markdown",
   "id": "32abfabf",
   "metadata": {},
   "source": [
    "# PUPPI Tutorial\n",
    "\n",
    "This Jupyter notebook demonstrates how to use the `puppi` Python package to process a BioID/AP-MS dataset. We will:\n",
    "\n",
    "1. Load an example intensity file\n",
    "2. Run feature engineering\n",
    "3. Train a PU-learning model and estimate FDR\n",
    "4. Save the output"
   ]
  },
  {
   "cell_type": "code",
   "execution_count": null,
   "id": "918a4b9c",
   "metadata": {},
   "outputs": [],
   "source": [
    "import pandas as pd\n",
    "from puppi.feature_engineering import run_feature_engineering\n",
    "from puppi.training_and_fdr import run_training_and_fdr"
   ]
  },
  {
   "cell_type": "markdown",
   "id": "8fdedf7d",
   "metadata": {},
   "source": [
    "## Load Example Data"
   ]
  },
  {
   "cell_type": "code",
   "execution_count": null,
   "id": "450f4c0f",
   "metadata": {},
   "outputs": [],
   "source": [
    "input_df = pd.read_csv(\"tutorial/example_input.csv\")\n",
    "input_df.head()"
   ]
  },
  {
   "cell_type": "markdown",
   "id": "70950f73",
   "metadata": {},
   "source": [
    "## Run Feature Engineering\n",
    "\n",
    "You must specify control keywords (substrings identifying control samples)."
   ]
  },
  {
   "cell_type": "code",
   "execution_count": null,
   "id": "bcd49bfe",
   "metadata": {},
   "outputs": [],
   "source": [
    "features_df = run_feature_engineering(input_df, control_keywords=[\"EGFP\", \"Empty\"])\n",
    "features_df.head()"
   ]
  },
  {
   "cell_type": "markdown",
   "id": "619f9b6b",
   "metadata": {},
   "source": [
    "## Train PU-learning Model and Estimate FDR"
   ]
  },
  {
   "cell_type": "code",
   "execution_count": null,
   "id": "d7ebafea",
   "metadata": {},
   "outputs": [],
   "source": [
    "final_df = run_training_and_fdr(features_df, initial_positives=10, initial_negatives=200)\n",
    "final_df.head()"
   ]
  },
  {
   "cell_type": "markdown",
   "id": "b20b7093",
   "metadata": {},
   "source": [
    "## Save Output"
   ]
  },
  {
   "cell_type": "code",
   "execution_count": null,
   "id": "281689bb",
   "metadata": {},
   "outputs": [],
   "source": [
    "final_df.to_csv(\"tutorial/example_output.csv\", index=False)\n",
    "print(\"Done! Output saved to tutorial/example_output.csv\")"
   ]
  },
  {
   "cell_type": "markdown",
   "id": "a6bf2f76",
   "metadata": {},
   "source": [
    "## Notes\n",
    "\n",
    "- You can replace `example_input.csv` with your own file.\n",
    "- Input must have a \"Protein\" column and replicate intensity columns named as `BAIT1_rep1`, `BAIT1_rep2`, etc.\n",
    "- Control columns should contain identifiable substrings like \"EGFP\" or \"Empty\"."
   ]
  }
 ],
 "metadata": {},
 "nbformat": 4,
 "nbformat_minor": 5
}
