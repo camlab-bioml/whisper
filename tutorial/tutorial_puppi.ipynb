{
 "cells": [
  {
   "cell_type": "markdown",
   "id": "32abfabf",
   "metadata": {},
   "source": [
    "# PUPPI Tutorial\n",
    "\n",
    "This Jupyter notebook demonstrates how to use the `puppi` Python package to process a BioID/AP-MS dataset. We will:\n",
    "\n",
    "1. Load an example intensity file\n",
    "2. Run feature engineering\n",
    "3. Train a PU-learning model and estimate FDR\n",
    "4. Save the output"
   ]
  },
  {
   "cell_type": "code",
   "execution_count": null,
   "id": "918a4b9c",
   "metadata": {},
   "outputs": [],
   "source": [
    "import pandas as pd\n",
    "from puppi.features import feature_engineering\n",
    "from puppi.train import train_and_score"
   ]
  },
  {
   "cell_type": "markdown",
   "id": "8fdedf7d",
   "metadata": {},
   "source": [
    "## Load Example Data"
   ]
  },
  {
   "cell_type": "code",
   "execution_count": null,
   "id": "450f4c0f",
   "metadata": {},
   "outputs": [],
   "source": [
    "input_df = pd.read_csv(\"input_intensity_dataset.tsv\", sep='\\t')\n",
    "input_df.head(10)"
   ]
  },
  {
   "cell_type": "markdown",
   "id": "70950f73",
   "metadata": {},
   "source": [
    "## Run Feature Engineering\n",
    "\n",
    "You must specify control (substrings identifying control samples)."
   ]
  },
  {
   "cell_type": "code",
   "execution_count": null,
   "id": "bcd49bfe",
   "metadata": {},
   "outputs": [],
   "source": [
    "features_df = feature_engineering(input_df, controls=[\"EGFP\", \"Empty\", \"NminiTurbo\"])\n",
    "features_df.head()"
   ]
  },
  {
   "cell_type": "markdown",
   "id": "619f9b6b",
   "metadata": {},
   "source": [
    "## Train PU-learning Model and Estimate FDR"
   ]
  },
  {
   "cell_type": "code",
   "execution_count": null,
   "id": "d7ebafea",
   "metadata": {},
   "outputs": [],
   "source": [
    "final_df = train_and_score(features_df, initial_positives=20, initial_negatives=200)\n",
    "final_df.head()"
   ]
  },
  {
   "cell_type": "markdown",
   "id": "b20b7093",
   "metadata": {},
   "source": [
    "## Save Output"
   ]
  },
  {
   "cell_type": "code",
   "execution_count": null,
   "id": "281689bb",
   "metadata": {},
   "outputs": [],
   "source": [
    "final_df.to_csv(\"puppi_output.csv\", index=False)"
   ]
  }
 ],
 "metadata": {
  "kernelspec": {
   "display_name": "Python 3",
   "language": "python",
   "name": "python3"
  },
  "language_info": {
   "codemirror_mode": {
    "name": "ipython",
    "version": 3
   },
   "file_extension": ".py",
   "mimetype": "text/x-python",
   "name": "python",
   "nbconvert_exporter": "python",
   "pygments_lexer": "ipython3",
   "version": "3.12.4"
  }
 },
 "nbformat": 4,
 "nbformat_minor": 5
}
